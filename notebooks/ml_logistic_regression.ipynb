{
 "cells": [
  {
   "cell_type": "markdown",
   "metadata": {},
   "source": [
    "# ML - Logistic Regression"
   ]
  },
  {
   "cell_type": "markdown",
   "metadata": {},
   "source": [
    "<a id='content'></a>\n",
    "\n",
    "## Content\n",
    "\n",
    "\n",
    "### [Logistic Regression Overview](#1)\n",
    "\n",
    "### [Logistic Regression Codes](#2)\n",
    "\n",
    "### [Compare with Scikit-learn implementation](#3)\n",
    "\n",
    "### [References](#refs)\n",
    "\n",
    "### [Next steps](#next_steps)\n",
    "\n",
    "### [Curiosities](#curiosities)"
   ]
  },
  {
   "cell_type": "markdown",
   "metadata": {},
   "source": [
    "___"
   ]
  },
  {
   "cell_type": "markdown",
   "metadata": {},
   "source": [
    "<a id='1'></a>\n",
    "\n",
    "# [^](#content) Logistic Regression Notes\n",
    "___"
   ]
  },
  {
   "cell_type": "markdown",
   "metadata": {},
   "source": [
    "<div style=\"text-align: center;\">\n",
    "  <img src=\"../images/logistic_reg1.png\" height=\"85%\" width=\"85%\">\n",
    "</div>"
   ]
  },
  {
   "cell_type": "markdown",
   "metadata": {},
   "source": [
    "<div style=\"text-align: center;\">\n",
    "  <img src=\"../images/logistic_reg2.png\" height=\"88%\" width=\"88%\">\n",
    "</div>"
   ]
  },
  {
   "cell_type": "markdown",
   "metadata": {},
   "source": [
    "<div style=\"text-align: center;\">\n",
    "  <img src=\"../images/logistic_reg3.png\" height=\"85%\" width=\"85%\">\n",
    "</div>"
   ]
  },
  {
   "cell_type": "markdown",
   "metadata": {},
   "source": [
    "<a id='2'></a>\n",
    "\n",
    "# [^](#content) Logistic Regression Codes\n",
    "___"
   ]
  },
  {
   "cell_type": "markdown",
   "metadata": {},
   "source": [
    "## Load libraries"
   ]
  },
  {
   "cell_type": "code",
   "execution_count": 1,
   "metadata": {},
   "outputs": [],
   "source": [
    "import numpy as np\n",
    "import matplotlib.pyplot as plt\n",
    "\n",
    "from sklearn.linear_model import LogisticRegression\n",
    "\n",
    "import warnings\n",
    "warnings.filterwarnings('ignore') # suppress warnings\n",
    "\n",
    "# parameters for graphic configurations\n",
    "SMALL_SIZE = 14\n",
    "MEDIUM_SIZE = 16\n",
    "BIGGER_SIZE = 18\n",
    "\n",
    "plt.rc('font', size=SMALL_SIZE)          # controls default text sizes\n",
    "plt.rc('axes', titlesize=SMALL_SIZE)     # fontsize of the axes title\n",
    "plt.rc('axes', labelsize=MEDIUM_SIZE)    # fontsize of the x and y labels\n",
    "plt.rc('xtick', labelsize=SMALL_SIZE)    # fontsize of the tick labels\n",
    "plt.rc('ytick', labelsize=SMALL_SIZE)    # fontsize of the tick labels\n",
    "plt.rc('legend', fontsize=SMALL_SIZE)    # legend fontsize\n",
    "plt.rc('figure', titlesize=BIGGER_SIZE)  # fontsize of the figure title"
   ]
  },
  {
   "cell_type": "markdown",
   "metadata": {},
   "source": [
    "## Define functions"
   ]
  },
  {
   "cell_type": "code",
   "execution_count": 2,
   "metadata": {},
   "outputs": [],
   "source": [
    "def plot_data(x, y, label_x, label_y):\n",
    "    plt.figure(figsize=(20, 7), dpi=80)\n",
    "    plt.scatter(x, y, color='orange', alpha=0.2)\n",
    "    plt.plot(x, y, color='black', linewidth=4)        \n",
    "    plt.xlabel(label_x, fontsize=16)\n",
    "    plt.ylabel(label_y, fontsize=16)    \n",
    "    plt.show()    \n",
    "    \n",
    "\n",
    "def feature_normalize(x):\n",
    "    '''\n",
    "    Standard normalization:\n",
    "    x_norm, mu, sigma = feature_normalize(x),\n",
    "    where mu = 'mean of x' = 0, sigma = 'standard_deviation of x' = 1,\n",
    "    and x_norm = 'normalized x'    \n",
    "    '''        \n",
    "    \n",
    "    mu = []\n",
    "    sigma = []\n",
    "\n",
    "    for i in range(x.shape[1]):        \n",
    "        mu.append(np.mean(x[:, i]))\n",
    "        sigma.append(np.std(x[:, i]))\n",
    "        with np.errstate(invalid='ignore'):\n",
    "            if i == 0:\n",
    "                x_norm = (x[:, i] - mu[i])/sigma[i]\n",
    "            else:\n",
    "                x_norm = np.column_stack((x_norm, (x[:, i] - mu[i])/sigma[i]))\n",
    "    \n",
    "    return x_norm, mu, sigma                  \n",
    "\n",
    "\n",
    "def sigmoid(z):\n",
    "    '''\n",
    "    Compute sigmoid function.\n",
    "    g = sigmoid(z) computes the sigmoid of z    \n",
    "    '''\n",
    "    \n",
    "    g = 1 / (1 + np.exp(-z))\n",
    "    \n",
    "    return g\n",
    "\n",
    "\n",
    "def compute_cost(x, y, theta):\n",
    "    ''' \n",
    "    Compute cost for linear regression:\n",
    "    j_cost = compute_cost(x, y, theta)\n",
    "    '''\n",
    "\n",
    "    # number of training examples\n",
    "    m = len(y)\n",
    "\n",
    "    # compute cost\n",
    "    h = sigmoid(np.dot(x, theta))\n",
    "    \n",
    "    j_cost = -1/m * (np.dot(y, np.log(h)) + np.dot((1-y), np.log(1-h)))\n",
    "\n",
    "    return j_cost\n",
    "\n",
    "\n",
    "def gradient_descent(x, y, theta, alpha, num_iters):\n",
    "    '''\n",
    "    Performs gradient descent to learn theta: \n",
    "    theta, j_history = gradient_descent(x, y, theta, alpha, num_iters)    \n",
    "    '''\n",
    "\n",
    "    # number of training examples\n",
    "    m = len(y)    \n",
    "    \n",
    "    # store cost values\n",
    "    j_history = []\n",
    "\n",
    "    # performs the iterative process\n",
    "    for iteration in range(1, num_iters):\n",
    "        # vectorized gd\n",
    "        h = sigmoid(np.dot(x, theta))\n",
    "        theta = theta - alpha/m * np.dot((h - y), x)\n",
    "        \n",
    "        # save the cost j_cost in every iteration    \n",
    "        j_history.append(compute_cost(x, y, theta))\n",
    "    \n",
    "    return theta, j_history"
   ]
  },
  {
   "cell_type": "markdown",
   "metadata": {},
   "source": [
    "## Train and test model"
   ]
  },
  {
   "cell_type": "markdown",
   "metadata": {},
   "source": [
    "### About the dataset"
   ]
  },
  {
   "cell_type": "markdown",
   "metadata": {},
   "source": [
    "The file dataset (`ex2data1.txt`) contains the training set for the logistic regression model to predict whether a student will be admitted into a university, based on the scores of your two exams."
   ]
  },
  {
   "cell_type": "markdown",
   "metadata": {},
   "source": [
    "### Feature Normalization"
   ]
  },
  {
   "cell_type": "code",
   "execution_count": 3,
   "metadata": {},
   "outputs": [
    {
     "name": "stdout",
     "output_type": "stream",
     "text": [
      "First 4 examples from the dataset:\n",
      "x = [[34.62365962 78.02469282]\n",
      " [30.28671077 43.89499752]\n",
      " [35.84740877 72.90219803]\n",
      " [60.18259939 86.3085521 ]],\n",
      "y = [0. 0. 0. 1.]\n",
      "\n",
      "Means after normalization:\n",
      "-7.66053886991358e-17\n",
      "1.1102230246251565e-15\n",
      "\n",
      "Standard deviation afetr normalization:\n",
      "1.0\n",
      "1.0\n",
      "\n",
      "x_norm = [[ 1.         -1.60224763  0.63834112]\n",
      " [ 1.         -1.82625564 -1.2075414 ]\n",
      " [ 1.         -1.53903969  0.3612943 ]\n",
      " [ 1.         -0.28210129  1.0863683 ]]\n"
     ]
    }
   ],
   "source": [
    "# load data\n",
    "FILE_PATH = '../data/ex2data1.txt'\n",
    "data = np.loadtxt(FILE_PATH, delimiter=',')\n",
    "\n",
    "x = data[:, 0:2]\n",
    "y = data[:, 2]\n",
    "m = len(y)\n",
    "\n",
    "# some samples and targets\n",
    "print('First 4 examples from the dataset:')\n",
    "print(f'x = {x[0:4,:]},\\ny = {y[0:4]}\\n')\n",
    "\n",
    "# scale features\n",
    "normalize = True\n",
    "if normalize:\n",
    "    x_norm, mu, sigma = feature_normalize(x)\n",
    "\n",
    "    # some checks\n",
    "    print('Means after normalization:')\n",
    "    print(np.mean(x_norm[:, 0]))\n",
    "    print(np.mean(x_norm[:, 1]))\n",
    "\n",
    "    print('\\nStandard deviation afetr normalization:')\n",
    "    print(np.std(x_norm[:, 0]))\n",
    "    print(np.std(x_norm[:, 1]))\n",
    "else:\n",
    "     x_norm = x\n",
    "\n",
    "# add intercep term\n",
    "x_norm = np.column_stack((np.ones((len(x), )), x_norm))\n",
    "print(f'\\nx_norm = {x_norm[:4,:]}')\n",
    "\n"
   ]
  },
  {
   "cell_type": "markdown",
   "metadata": {},
   "source": [
    "### Run Logistic Regression with Gradient Descent"
   ]
  },
  {
   "cell_type": "code",
   "execution_count": 4,
   "metadata": {},
   "outputs": [
    {
     "name": "stdout",
     "output_type": "stream",
     "text": [
      "Theta computed from gradient descent: [0.46715425 1.28549456 1.15267245]\n"
     ]
    },
    {
     "data": {
      "image/png": "[encoded data removed]",
      "text/plain": [
       "<Figure size 1600x560 with 1 Axes>"
      ]
     },
     "metadata": {},
     "output_type": "display_data"
    }
   ],
   "source": [
    "# choose some alpha value\n",
    "alpha = 0.01;\n",
    "num_iters = 1000;\n",
    "\n",
    "# init 'theta' and run gradient descent \n",
    "theta = np.zeros((3,))\n",
    "theta_optimal, j_history = gradient_descent(x_norm, y, theta, alpha, num_iters)\n",
    "\n",
    "# gradient descent's result\n",
    "print(f'Theta computed from gradient descent: {theta_optimal}')\n",
    "\n",
    "# plot the convergence graph\n",
    "x_axis = np.arange(0,len(j_history))\n",
    "plot_data(x=x_axis, y=j_history, label_x='#Iterations', label_y='J (theta)')"
   ]
  },
  {
   "cell_type": "markdown",
   "metadata": {},
   "source": [
    "<a id='3'></a>\n",
    "\n",
    "# [^](#content) Compare with Scikit-learn implementation\n",
    "___"
   ]
  },
  {
   "cell_type": "markdown",
   "metadata": {},
   "source": [
    "### Fit data with sklearn logistic regression and make predict"
   ]
  },
  {
   "cell_type": "code",
   "execution_count": 5,
   "metadata": {},
   "outputs": [
    {
     "data": {
      "text/plain": [
       "array([0., 0., 0., 1., 1., 0., 1., 0., 1., 1., 1., 0., 1., 1., 0., 1., 0.,\n",
       "       0., 1., 1., 0., 1., 0., 0., 1., 1., 1., 1., 0., 0., 1., 1., 0., 0.,\n",
       "       0., 0., 1., 1., 0., 0., 1., 0., 1., 1., 0., 0., 1., 1., 1., 1., 1.,\n",
       "       1., 1., 0., 0., 0., 1., 1., 1., 1., 1., 0., 0., 0., 0., 0., 1., 0.,\n",
       "       1., 1., 0., 1., 1., 1., 1., 1., 1., 1., 0., 1., 1., 1., 1., 0., 1.,\n",
       "       1., 0., 1., 1., 0., 1., 1., 0., 1., 1., 1., 1., 1., 0., 1.])"
      ]
     },
     "execution_count": 5,
     "metadata": {},
     "output_type": "execute_result"
    }
   ],
   "source": [
    "model = LogisticRegression()\n",
    "model.fit(x_norm, y)\n",
    "\n",
    "pred_sklearn = model.predict(x_norm)\n",
    "\n",
    "pred_sklearn"
   ]
  },
  {
   "cell_type": "markdown",
   "metadata": {},
   "source": [
    "### Make predict with our implementation"
   ]
  },
  {
   "cell_type": "code",
   "execution_count": 6,
   "metadata": {},
   "outputs": [
    {
     "name": "stdout",
     "output_type": "stream",
     "text": [
      "[0, 0, 0, 1, 1, 0, 1, 0, 1, 1, 1, 0, 1, 1, 0, 1, 0, 0, 1, 1, 0, 1, 0, 0, 1, 1, 1, 1, 0, 0, 1, 1, 0, 0, 0, 0, 1, 1, 0, 0, 1, 0, 1, 0, 0, 0, 1, 1, 1, 1, 1, 1, 1, 0, 0, 0, 1, 1, 1, 1, 1, 0, 0, 0, 0, 0, 1, 0, 1, 1, 0, 1, 1, 1, 1, 1, 1, 1, 0, 1, 1, 1, 1, 0, 1, 1, 0, 1, 1, 0, 1, 1, 0, 1, 1, 1, 1, 1, 0, 1]\n"
     ]
    }
   ],
   "source": [
    "pred = [1 if i > 0.5 else 0 for i in sigmoid(np.dot(x_norm, theta_optimal))]\n",
    "print(pred)"
   ]
  },
  {
   "cell_type": "markdown",
   "metadata": {},
   "source": [
    "### Difference between predict with Sklearn and with our implementation"
   ]
  },
  {
   "cell_type": "code",
   "execution_count": 7,
   "metadata": {},
   "outputs": [
    {
     "name": "stdout",
     "output_type": "stream",
     "text": [
      "Difference:  1.0\n"
     ]
    },
    {
     "data": {
      "text/plain": [
       "array([0., 0., 0., 0., 0., 0., 0., 0., 0., 0., 0., 0., 0., 0., 0., 0., 0.,\n",
       "       0., 0., 0., 0., 0., 0., 0., 0., 0., 0., 0., 0., 0., 0., 0., 0., 0.,\n",
       "       0., 0., 0., 0., 0., 0., 0., 0., 0., 1., 0., 0., 0., 0., 0., 0., 0.,\n",
       "       0., 0., 0., 0., 0., 0., 0., 0., 0., 0., 0., 0., 0., 0., 0., 0., 0.,\n",
       "       0., 0., 0., 0., 0., 0., 0., 0., 0., 0., 0., 0., 0., 0., 0., 0., 0.,\n",
       "       0., 0., 0., 0., 0., 0., 0., 0., 0., 0., 0., 0., 0., 0., 0.])"
      ]
     },
     "execution_count": 7,
     "metadata": {},
     "output_type": "execute_result"
    }
   ],
   "source": [
    "print('Difference: ', sum(pred_sklearn - pred))\n",
    "pred_sklearn - pred"
   ]
  },
  {
   "cell_type": "markdown",
   "metadata": {},
   "source": [
    "<a id='refs'></a>\n",
    "\n",
    "# [^](#content) References\n",
    "\n",
    "* Coursera - ML Course, 2019.\n",
    "\n",
    "* Wikipedia:\n",
    "    - Gradient Descent, [link](https://en.wikipedia.org/wiki/Gradient_descent), 2022.\n",
    "    - Logistic Regression, [link](https://en.wikipedia.org/wiki/Logistic_regression), 2022.\n"
   ]
  },
  {
   "cell_type": "markdown",
   "metadata": {},
   "source": [
    "<a id='next_steps'></a>\n",
    "\n",
    "# [^](#content) Next steps\n",
    "\n",
    "\n",
    "- Traninig and make prediction with others datasets\n",
    " \n",
    "- Improve optimization step\n",
    "\n",
    "- Add some graphs of boundaries\n"
   ]
  }
 ],
 "metadata": {
  "kernelspec": {
   "display_name": "Python 3 (ipykernel)",
   "language": "python",
   "name": "python3"
  },
  "language_info": {
   "codemirror_mode": {
    "name": "ipython",
    "version": 3
   },
   "file_extension": ".py",
   "mimetype": "text/x-python",
   "name": "python",
   "nbconvert_exporter": "python",
   "pygments_lexer": "ipython3",
   "version": "3.9.12"
  },
  "vscode": {
   "interpreter": {
    "hash": "916dbcbb3f70747c44a77c7bcd40155683ae19c65e1c03b4aa3499c5328201f1"
   }
  }
 },
 "nbformat": 4,
 "nbformat_minor": 4
}
